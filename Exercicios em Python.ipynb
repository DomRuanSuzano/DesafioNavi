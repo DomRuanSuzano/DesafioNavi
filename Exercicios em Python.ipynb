{
 "cells": [
  {
   "cell_type": "code",
   "execution_count": 15,
   "metadata": {},
   "outputs": [
    {
     "name": "stdout",
     "output_type": "stream",
     "text": [
      "1378\n"
     ]
    }
   ],
   "source": [
    "# Exercício 1\n",
    "j = 0\n",
    "for k in range(1, (5*10**6)+1, 1):\n",
    "    if k%2== 0 and k%49==0 and k%37==0:\n",
    "        j += 1\n",
    "print(j)"
   ]
  },
  {
   "cell_type": "code",
   "execution_count": 16,
   "metadata": {},
   "outputs": [
    {
     "name": "stdout",
     "output_type": "stream",
     "text": [
      "29555.14 e 9\n",
      "[0, 2.0, 23, 12.39444915467244, 249, 38.4377516497364, 5769, 135.78364059622126, 288801, 520.7888983093449]\n"
     ]
    }
   ],
   "source": [
    "# Exercício 2\n",
    "import numpy as np\n",
    "def fatorial(n):\n",
    "    k = 1\n",
    "    for a in range(1,n+1,1):\n",
    "        k *= a\n",
    "    return k\n",
    "lista = []\n",
    "for x in range(0, 10, 1):\n",
    "    if x == 0:\n",
    "        X = 0\n",
    "        lista.append(X)\n",
    "    elif x%2==0:\n",
    "        X = (3**x)+(7*fatorial(x))\n",
    "        lista.append(X)\n",
    "    else:\n",
    "        X = (2**x)+(4*np.log( x))\n",
    "        lista.append(X)\n",
    "soma = 0\n",
    "maximo = 0\n",
    "for i in lista:\n",
    "    soma += i\n",
    "for i in range(len(lista)):    \n",
    "    if maximo < lista[i]:\n",
    "        maximo = i\n",
    "media = soma/len(lista)\n",
    "print(f'{media:.2f} e {maximo}')\n",
    "print(lista)"
   ]
  },
  {
   "cell_type": "code",
   "execution_count": 17,
   "metadata": {},
   "outputs": [
    {
     "name": "stdout",
     "output_type": "stream",
     "text": [
      "a nota máxima foi de maria que tirou 10.0\n"
     ]
    }
   ],
   "source": [
    "# Exercício 3\n",
    "def le_notas(lista):\n",
    "    dicio ={}\n",
    "    for a in lista:\n",
    "        dicio[a[0]] = a[1]\n",
    "    maximo = 0\n",
    "    nome = ''\n",
    "    for k in dicio.keys():\n",
    "        if maximo < dicio[k]:\n",
    "            nome = k\n",
    "            maximo = dicio[k]\n",
    "    frase = 'a nota máxima foi de '+nome+ ' que tirou '+str(maximo)\n",
    "    return frase\n",
    "print(le_notas([['maria', 10.0],['joão', 8.5], ['pedro', 7.5]]))"
   ]
  },
  {
   "cell_type": "code",
   "execution_count": null,
   "metadata": {},
   "outputs": [],
   "source": []
  }
 ],
 "metadata": {
  "kernelspec": {
   "display_name": "Python 3",
   "language": "python",
   "name": "python3"
  },
  "language_info": {
   "codemirror_mode": {
    "name": "ipython",
    "version": 3
   },
   "file_extension": ".py",
   "mimetype": "text/x-python",
   "name": "python",
   "nbconvert_exporter": "python",
   "pygments_lexer": "ipython3",
   "version": "3.8.5"
  }
 },
 "nbformat": 4,
 "nbformat_minor": 4
}
